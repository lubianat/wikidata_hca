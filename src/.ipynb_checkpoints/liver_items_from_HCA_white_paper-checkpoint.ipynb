{
 "cells": [
  {
   "cell_type": "code",
   "execution_count": 1,
   "metadata": {},
   "outputs": [],
   "source": [
    "import pandas as pd"
   ]
  },
  {
   "cell_type": "code",
   "execution_count": 2,
   "metadata": {},
   "outputs": [
    {
     "data": {
      "text/html": [
       "<div>\n",
       "<style scoped>\n",
       "    .dataframe tbody tr th:only-of-type {\n",
       "        vertical-align: middle;\n",
       "    }\n",
       "\n",
       "    .dataframe tbody tr th {\n",
       "        vertical-align: top;\n",
       "    }\n",
       "\n",
       "    .dataframe thead th {\n",
       "        text-align: right;\n",
       "    }\n",
       "</style>\n",
       "<table border=\"1\" class=\"dataframe\">\n",
       "  <thead>\n",
       "    <tr style=\"text-align: right;\">\n",
       "      <th></th>\n",
       "      <th>Concepts</th>\n",
       "      <th>Item in Wikidata</th>\n",
       "      <th>Type</th>\n",
       "    </tr>\n",
       "  </thead>\n",
       "  <tbody>\n",
       "    <tr>\n",
       "      <th>0</th>\n",
       "      <td>Human Liver</td>\n",
       "      <td>Q68487022</td>\n",
       "      <td>NaN</td>\n",
       "    </tr>\n",
       "    <tr>\n",
       "      <th>1</th>\n",
       "      <td>Human hepatic vein</td>\n",
       "      <td>NaN</td>\n",
       "      <td>blood vessel</td>\n",
       "    </tr>\n",
       "    <tr>\n",
       "      <th>2</th>\n",
       "      <td>Human gallbladder</td>\n",
       "      <td>NaN</td>\n",
       "      <td>organ</td>\n",
       "    </tr>\n",
       "    <tr>\n",
       "      <th>3</th>\n",
       "      <td>Human bile duct</td>\n",
       "      <td>NaN</td>\n",
       "      <td>anatomical structure</td>\n",
       "    </tr>\n",
       "    <tr>\n",
       "      <th>4</th>\n",
       "      <td>Human portal vein</td>\n",
       "      <td>NaN</td>\n",
       "      <td>blood vessel</td>\n",
       "    </tr>\n",
       "  </tbody>\n",
       "</table>\n",
       "</div>"
      ],
      "text/plain": [
       "             Concepts Item in Wikidata                  Type\n",
       "0         Human Liver        Q68487022                   NaN\n",
       "1  Human hepatic vein              NaN          blood vessel\n",
       "2   Human gallbladder              NaN                 organ\n",
       "3     Human bile duct              NaN  anatomical structure\n",
       "4   Human portal vein              NaN          blood vessel"
      ]
     },
     "execution_count": 2,
     "metadata": {},
     "output_type": "execute_result"
    }
   ],
   "source": [
    "df = pd.read_csv(\"../data/human_liver_items.csv\")\n",
    "df.head()"
   ]
  },
  {
   "cell_type": "code",
   "execution_count": 3,
   "metadata": {},
   "outputs": [
    {
     "data": {
      "text/html": [
       "<div>\n",
       "<style scoped>\n",
       "    .dataframe tbody tr th:only-of-type {\n",
       "        vertical-align: middle;\n",
       "    }\n",
       "\n",
       "    .dataframe tbody tr th {\n",
       "        vertical-align: top;\n",
       "    }\n",
       "\n",
       "    .dataframe thead th {\n",
       "        text-align: right;\n",
       "    }\n",
       "</style>\n",
       "<table border=\"1\" class=\"dataframe\">\n",
       "  <thead>\n",
       "    <tr style=\"text-align: right;\">\n",
       "      <th></th>\n",
       "      <th>Concepts</th>\n",
       "      <th>Item in Wikidata</th>\n",
       "      <th>Type</th>\n",
       "    </tr>\n",
       "  </thead>\n",
       "  <tbody>\n",
       "    <tr>\n",
       "      <th>1</th>\n",
       "      <td>Human hepatic vein</td>\n",
       "      <td>NaN</td>\n",
       "      <td>blood vessel</td>\n",
       "    </tr>\n",
       "    <tr>\n",
       "      <th>2</th>\n",
       "      <td>Human gallbladder</td>\n",
       "      <td>NaN</td>\n",
       "      <td>organ</td>\n",
       "    </tr>\n",
       "    <tr>\n",
       "      <th>3</th>\n",
       "      <td>Human bile duct</td>\n",
       "      <td>NaN</td>\n",
       "      <td>anatomical structure</td>\n",
       "    </tr>\n",
       "    <tr>\n",
       "      <th>4</th>\n",
       "      <td>Human portal vein</td>\n",
       "      <td>NaN</td>\n",
       "      <td>blood vessel</td>\n",
       "    </tr>\n",
       "    <tr>\n",
       "      <th>5</th>\n",
       "      <td>Human hepatic artery</td>\n",
       "      <td>NaN</td>\n",
       "      <td>blood vessel</td>\n",
       "    </tr>\n",
       "  </tbody>\n",
       "</table>\n",
       "</div>"
      ],
      "text/plain": [
       "               Concepts Item in Wikidata                  Type\n",
       "1    Human hepatic vein              NaN          blood vessel\n",
       "2     Human gallbladder              NaN                 organ\n",
       "3       Human bile duct              NaN  anatomical structure\n",
       "4     Human portal vein              NaN          blood vessel\n",
       "5  Human hepatic artery              NaN          blood vessel"
      ]
     },
     "execution_count": 3,
     "metadata": {},
     "output_type": "execute_result"
    }
   ],
   "source": [
    "df_filt = df[df[\"Item in Wikidata\"].isnull()]\n",
    "df_filt.head()"
   ]
  },
  {
   "cell_type": "code",
   "execution_count": 4,
   "metadata": {},
   "outputs": [
    {
     "name": "stdout",
     "output_type": "stream",
     "text": [
      "Human hepatic vein\n",
      "Human gallbladder\n",
      "Human bile duct\n",
      "Human portal vein\n",
      "Human hepatic artery\n",
      "Human central vein\n",
      "Human portal triad\n",
      "Human vascular endothelial cell\n",
      "Human Kupffer Cell\n",
      "Human sinusoidal endothelial cell\n",
      "Human hepatocyte\n",
      "Human hepatic artery\n",
      "Human B cell\n",
      "Human T cell\n",
      "Human NKT cell\n",
      "Human NK cell\n",
      "Human bile duct canaliculus\n",
      "Human cholangiocyte\n",
      "Human arterial endothelial cell\n",
      "Human vascular endothelial cell\n",
      "Human hepatic stellate cell\n"
     ]
    }
   ],
   "source": [
    "for index, row in df_filt.iterrows():\n",
    "    print(row[0])"
   ]
  },
  {
   "cell_type": "code",
   "execution_count": 18,
   "metadata": {},
   "outputs": [
    {
     "name": "stdout",
     "output_type": "stream",
     "text": [
      "['Q1578686', 'Q64386', 'Q851111', 'Q464543', 'Q66510798', 'Q5062162', 'Q7231496', 'Q28291036', 'Q513486', 'Q37224985', 'Q827450', 'Q66510798', 'Q188930', 'Q193529', 'Q224930', 'Q332181', 'donotexist', 'Q5104283', 'Q38015000', 'Q28291036', 'Q1997459']\n"
     ]
    }
   ],
   "source": [
    "from wikidataintegrator import wdi_core\n",
    "\n",
    "\n",
    "parents = []\n",
    "for index, row in df_filt.iterrows():\n",
    "    try:\n",
    "     parents.append(wdi_core.WDItemEngine.get_wd_search_results(row[0][6:])[0])\n",
    "    except:\n",
    "     parents.append(\"donotexist\")   \n",
    "print(parents)\n"
   ]
  },
  {
   "cell_type": "code",
   "execution_count": 19,
   "metadata": {},
   "outputs": [
    {
     "name": "stdout",
     "output_type": "stream",
     "text": [
      "['Q1578686', 'Q64386', 'Q851111', 'Q464543', 'Q66510798', 'Q5062162', 'Q7231496', 'Q28291036', 'Q513486', 'Q37224985', 'Q827450', 'Q66510798', 'Q188930', 'Q193529', 'Q224930', 'Q332181', 'donotexist', 'Q5104283', 'Q38015000', 'Q28291036', 'Q1997459']\n"
     ]
    }
   ],
   "source": [
    "print(parents)"
   ]
  },
  {
   "cell_type": "markdown",
   "metadata": {},
   "source": [
    "There might be some errors here. For example, some items might refer to scientific articles, instead of actual anatomy items. \n",
    "But I believe it will be faster to get those manually. "
   ]
  },
  {
   "cell_type": "code",
   "execution_count": 23,
   "metadata": {},
   "outputs": [
    {
     "name": "stdout",
     "output_type": "stream",
     "text": [
      "CREATE\n",
      "LAST|Len|\"human hepatic vein\"\n",
      "LAST|Den|\"human blood vessel\"\n",
      "LAST|P361|Q5\n",
      "LAST|279|Q64386\n",
      "CREATE\n",
      "LAST|Len|\"human gallbladder\"\n",
      "LAST|Den|\"human organ\"\n",
      "LAST|P361|Q5\n",
      "LAST|279|Q851111\n",
      "CREATE\n",
      "LAST|Len|\"human bile duct\"\n",
      "LAST|Den|\"human anatomical structure\"\n",
      "LAST|P361|Q5\n",
      "LAST|279|Q464543\n",
      "CREATE\n",
      "LAST|Len|\"human portal vein\"\n",
      "LAST|Den|\"human blood vessel\"\n",
      "LAST|P361|Q5\n",
      "LAST|279|Q66510798\n",
      "CREATE\n",
      "LAST|Len|\"human hepatic artery\"\n",
      "LAST|Den|\"human blood vessel\"\n",
      "LAST|P361|Q5\n",
      "LAST|279|Q5062162\n",
      "CREATE\n",
      "LAST|Len|\"human central vein\"\n",
      "LAST|Den|\"human blood vessel\"\n",
      "LAST|P361|Q5\n",
      "LAST|279|Q7231496\n",
      "CREATE\n",
      "LAST|Len|\"human portal triad\"\n",
      "LAST|Den|\"human anatomical structure\"\n",
      "LAST|P361|Q5\n",
      "LAST|279|Q28291036\n",
      "CREATE\n",
      "LAST|Len|\"human vascular endothelial cell\"\n",
      "LAST|Den|\"human cell type\"\n",
      "LAST|P361|Q5\n",
      "LAST|279|Q513486\n",
      "CREATE\n",
      "LAST|Len|\"human kupffer cell\"\n",
      "LAST|Den|\"human cell type\"\n",
      "LAST|P361|Q5\n",
      "LAST|279|Q37224985\n",
      "CREATE\n",
      "LAST|Len|\"human sinusoidal endothelial cell\"\n",
      "LAST|Den|\"human cell type\"\n",
      "LAST|P361|Q5\n",
      "LAST|279|Q827450\n",
      "CREATE\n",
      "LAST|Len|\"human hepatocyte\"\n",
      "LAST|Den|\"human cell type\"\n",
      "LAST|P361|Q5\n",
      "LAST|279|Q66510798\n",
      "CREATE\n",
      "LAST|Len|\"human hepatic artery\"\n",
      "LAST|Den|\"human blood vessel\"\n",
      "LAST|P361|Q5\n",
      "LAST|279|Q188930\n",
      "CREATE\n",
      "LAST|Len|\"human b cell\"\n",
      "LAST|Den|\"human cell type\"\n",
      "LAST|P361|Q5\n",
      "LAST|279|Q193529\n",
      "CREATE\n",
      "LAST|Len|\"human t cell\"\n",
      "LAST|Den|\"human cell type\"\n",
      "LAST|P361|Q5\n",
      "LAST|279|Q224930\n",
      "CREATE\n",
      "LAST|Len|\"human nkt cell\"\n",
      "LAST|Den|\"human cell type\"\n",
      "LAST|P361|Q5\n",
      "LAST|279|Q332181\n",
      "CREATE\n",
      "LAST|Len|\"human nk cell\"\n",
      "LAST|Den|\"human cell type\"\n",
      "LAST|P361|Q5\n",
      "LAST|279|donotexist\n",
      "CREATE\n",
      "LAST|Len|\"human bile duct canaliculus\"\n",
      "LAST|Den|\"human anatomical structure\"\n",
      "LAST|P361|Q5\n",
      "LAST|279|Q5104283\n",
      "CREATE\n",
      "LAST|Len|\"human cholangiocyte\"\n",
      "LAST|Den|\"human cell type\"\n",
      "LAST|P361|Q5\n",
      "LAST|279|Q38015000\n",
      "CREATE\n",
      "LAST|Len|\"human arterial endothelial cell\"\n",
      "LAST|Den|\"human cell type\"\n",
      "LAST|P361|Q5\n",
      "LAST|279|Q28291036\n",
      "CREATE\n",
      "LAST|Len|\"human vascular endothelial cell\"\n",
      "LAST|Den|\"human cell type\"\n",
      "LAST|P361|Q5\n",
      "LAST|279|Q1997459\n"
     ]
    },
    {
     "ename": "IndexError",
     "evalue": "list index out of range",
     "output_type": "error",
     "traceback": [
      "\u001b[0;31m---------------------------------------------------------------------------\u001b[0m",
      "\u001b[0;31mIndexError\u001b[0m                                Traceback (most recent call last)",
      "\u001b[0;32m<ipython-input-23-273dec780ea1>\u001b[0m in \u001b[0;36m<module>\u001b[0;34m()\u001b[0m\n\u001b[1;32m      4\u001b[0m       \u001b[0;34m'LAST|Den|'\u001b[0m \u001b[0;34m+\u001b[0m \u001b[0;34m'\"'\u001b[0m\u001b[0;34m+\u001b[0m \u001b[0;34m\"human \"\u001b[0m \u001b[0;34m+\u001b[0m \u001b[0mrow\u001b[0m\u001b[0;34m[\u001b[0m\u001b[0;34m'Type'\u001b[0m\u001b[0;34m]\u001b[0m \u001b[0;34m+\u001b[0m \u001b[0;34m'\"\\n'\u001b[0m \u001b[0;34m+\u001b[0m\u001b[0;34m\u001b[0m\u001b[0m\n\u001b[1;32m      5\u001b[0m       \u001b[0;34m\"LAST|P361|\"\u001b[0m \u001b[0;34m+\u001b[0m \u001b[0;34m\"Q5\"\u001b[0m\u001b[0;34m+\u001b[0m \u001b[0;34m'\\n'\u001b[0m \u001b[0;34m+\u001b[0m\u001b[0;34m\u001b[0m\u001b[0m\n\u001b[0;32m----> 6\u001b[0;31m       \"LAST|279|\" + parents[index])\n\u001b[0m",
      "\u001b[0;31mIndexError\u001b[0m: list index out of range"
     ]
    }
   ],
   "source": [
    "for index, row in df_filt.iterrows():\n",
    "        print(\"CREATE\\n\" + \n",
    "      'LAST|Len|' + '\"' + row['Concepts'].lower() + '\"\\n' +\n",
    "      'LAST|Den|' + '\"'+ \"human \" + row['Type'] + '\"\\n' +\n",
    "      \"LAST|P361|\" + \"Q5\"+ '\\n' +\n",
    "      \"LAST|P279|\" + parents[index])"
   ]
  }
 ],
 "metadata": {
  "kernelspec": {
   "display_name": "Python 3",
   "language": "python",
   "name": "python3"
  },
  "language_info": {
   "codemirror_mode": {
    "name": "ipython",
    "version": 3
   },
   "file_extension": ".py",
   "mimetype": "text/x-python",
   "name": "python",
   "nbconvert_exporter": "python",
   "pygments_lexer": "ipython3",
   "version": "3.6.5"
  }
 },
 "nbformat": 4,
 "nbformat_minor": 4
}
