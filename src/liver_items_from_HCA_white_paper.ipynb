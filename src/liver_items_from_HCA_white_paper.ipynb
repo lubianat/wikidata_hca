{
 "cells": [
  {
   "cell_type": "code",
   "execution_count": 1,
   "metadata": {},
   "outputs": [],
   "source": [
    "import pandas as pd"
   ]
  },
  {
   "cell_type": "code",
   "execution_count": 2,
   "metadata": {},
   "outputs": [
    {
     "data": {
      "text/html": [
       "<div>\n",
       "<style scoped>\n",
       "    .dataframe tbody tr th:only-of-type {\n",
       "        vertical-align: middle;\n",
       "    }\n",
       "\n",
       "    .dataframe tbody tr th {\n",
       "        vertical-align: top;\n",
       "    }\n",
       "\n",
       "    .dataframe thead th {\n",
       "        text-align: right;\n",
       "    }\n",
       "</style>\n",
       "<table border=\"1\" class=\"dataframe\">\n",
       "  <thead>\n",
       "    <tr style=\"text-align: right;\">\n",
       "      <th></th>\n",
       "      <th>Concepts</th>\n",
       "      <th>Item in Wikidata</th>\n",
       "      <th>Type</th>\n",
       "    </tr>\n",
       "  </thead>\n",
       "  <tbody>\n",
       "    <tr>\n",
       "      <th>0</th>\n",
       "      <td>Human arterial endothelial cell</td>\n",
       "      <td>NaN</td>\n",
       "      <td>cell type</td>\n",
       "    </tr>\n",
       "    <tr>\n",
       "      <th>1</th>\n",
       "      <td>Human B cell</td>\n",
       "      <td>NaN</td>\n",
       "      <td>cell type</td>\n",
       "    </tr>\n",
       "    <tr>\n",
       "      <th>2</th>\n",
       "      <td>Human bile duct</td>\n",
       "      <td>NaN</td>\n",
       "      <td>anatomical structure</td>\n",
       "    </tr>\n",
       "    <tr>\n",
       "      <th>3</th>\n",
       "      <td>Human bile duct canaliculus</td>\n",
       "      <td>NaN</td>\n",
       "      <td>anatomical structure</td>\n",
       "    </tr>\n",
       "    <tr>\n",
       "      <th>4</th>\n",
       "      <td>Human central vein</td>\n",
       "      <td>NaN</td>\n",
       "      <td>blood vessel</td>\n",
       "    </tr>\n",
       "  </tbody>\n",
       "</table>\n",
       "</div>"
      ],
      "text/plain": [
       "                          Concepts  Item in Wikidata                  Type\n",
       "0  Human arterial endothelial cell               NaN             cell type\n",
       "1                     Human B cell               NaN             cell type\n",
       "2                  Human bile duct               NaN  anatomical structure\n",
       "3      Human bile duct canaliculus               NaN  anatomical structure\n",
       "4               Human central vein               NaN          blood vessel"
      ]
     },
     "execution_count": 2,
     "metadata": {},
     "output_type": "execute_result"
    }
   ],
   "source": [
    "df = pd.read_csv(\"../data/human_liver_items.csv\")\n",
    "df.head()"
   ]
  },
  {
   "cell_type": "code",
   "execution_count": 3,
   "metadata": {},
   "outputs": [
    {
     "data": {
      "text/html": [
       "<div>\n",
       "<style scoped>\n",
       "    .dataframe tbody tr th:only-of-type {\n",
       "        vertical-align: middle;\n",
       "    }\n",
       "\n",
       "    .dataframe tbody tr th {\n",
       "        vertical-align: top;\n",
       "    }\n",
       "\n",
       "    .dataframe thead th {\n",
       "        text-align: right;\n",
       "    }\n",
       "</style>\n",
       "<table border=\"1\" class=\"dataframe\">\n",
       "  <thead>\n",
       "    <tr style=\"text-align: right;\">\n",
       "      <th></th>\n",
       "      <th>Concepts</th>\n",
       "      <th>Item in Wikidata</th>\n",
       "      <th>Type</th>\n",
       "    </tr>\n",
       "  </thead>\n",
       "  <tbody>\n",
       "    <tr>\n",
       "      <th>0</th>\n",
       "      <td>Human arterial endothelial cell</td>\n",
       "      <td>NaN</td>\n",
       "      <td>cell type</td>\n",
       "    </tr>\n",
       "    <tr>\n",
       "      <th>1</th>\n",
       "      <td>Human B cell</td>\n",
       "      <td>NaN</td>\n",
       "      <td>cell type</td>\n",
       "    </tr>\n",
       "    <tr>\n",
       "      <th>2</th>\n",
       "      <td>Human bile duct</td>\n",
       "      <td>NaN</td>\n",
       "      <td>anatomical structure</td>\n",
       "    </tr>\n",
       "    <tr>\n",
       "      <th>3</th>\n",
       "      <td>Human bile duct canaliculus</td>\n",
       "      <td>NaN</td>\n",
       "      <td>anatomical structure</td>\n",
       "    </tr>\n",
       "    <tr>\n",
       "      <th>4</th>\n",
       "      <td>Human central vein</td>\n",
       "      <td>NaN</td>\n",
       "      <td>blood vessel</td>\n",
       "    </tr>\n",
       "  </tbody>\n",
       "</table>\n",
       "</div>"
      ],
      "text/plain": [
       "                          Concepts  Item in Wikidata                  Type\n",
       "0  Human arterial endothelial cell               NaN             cell type\n",
       "1                     Human B cell               NaN             cell type\n",
       "2                  Human bile duct               NaN  anatomical structure\n",
       "3      Human bile duct canaliculus               NaN  anatomical structure\n",
       "4               Human central vein               NaN          blood vessel"
      ]
     },
     "execution_count": 3,
     "metadata": {},
     "output_type": "execute_result"
    }
   ],
   "source": [
    "df_filt = df[df[\"Item in Wikidata\"].isnull()]\n",
    "df_filt.head()"
   ]
  },
  {
   "cell_type": "code",
   "execution_count": 4,
   "metadata": {},
   "outputs": [
    {
     "name": "stdout",
     "output_type": "stream",
     "text": [
      "Human arterial endothelial cell\n",
      "Human B cell\n",
      "Human bile duct\n",
      "Human bile duct canaliculus\n",
      "Human central vein\n",
      "Human cholangiocyte\n",
      "Human gallbladder\n",
      "Human hepatic artery\n",
      "Human hepatic stellate cell\n",
      "Human hepatic vein\n",
      "Human hepatocyte\n",
      "Human Kupffer Cell\n",
      "Human Liver\n",
      "Human NK cell\n",
      "Human NKT cell\n",
      "Human portal triad\n",
      "Human portal vein\n",
      "Human sinusoidal endothelial cell\n",
      "Human T cell\n",
      "Human vascular endothelial cell\n"
     ]
    }
   ],
   "source": [
    "for index, row in df_filt.iterrows():\n",
    "    print(row[0])"
   ]
  },
  {
   "cell_type": "code",
   "execution_count": 5,
   "metadata": {},
   "outputs": [
    {
     "name": "stdout",
     "output_type": "stream",
     "text": [
      "['Q38015000', 'Q188930', 'Q851111', 'donotexist', 'Q5062162', 'Q5104283', 'Q64386', 'Q66510798', 'Q1997459', 'Q1578686', 'Q827450', 'Q513486', 'Q9368', 'Q332181', 'Q224930', 'Q7231496', 'Q464543', 'Q37224985', 'Q193529', 'Q28291036']\n"
     ]
    }
   ],
   "source": [
    "from wikidataintegrator import wdi_core\n",
    "\n",
    "\n",
    "parents = []\n",
    "for index, row in df_filt.iterrows():\n",
    "    try:\n",
    "     parents.append(wdi_core.WDItemEngine.get_wd_search_results(row[0][6:])[0])\n",
    "    except:\n",
    "     parents.append(\"donotexist\")   \n",
    "print(parents)\n"
   ]
  },
  {
   "cell_type": "code",
   "execution_count": 6,
   "metadata": {},
   "outputs": [
    {
     "name": "stdout",
     "output_type": "stream",
     "text": [
      "['Q38015000', 'Q188930', 'Q851111', 'donotexist', 'Q5062162', 'Q5104283', 'Q64386', 'Q66510798', 'Q1997459', 'Q1578686', 'Q827450', 'Q513486', 'Q9368', 'Q332181', 'Q224930', 'Q7231496', 'Q464543', 'Q37224985', 'Q193529', 'Q28291036']\n"
     ]
    }
   ],
   "source": [
    "print(parents)"
   ]
  },
  {
   "cell_type": "markdown",
   "metadata": {},
   "source": [
    "There might be some errors here. For example, some items might refer to scientific articles, instead of actual anatomy items. \n",
    "But I believe it will be faster to get those manually. "
   ]
  },
  {
   "cell_type": "code",
   "execution_count": 7,
   "metadata": {},
   "outputs": [
    {
     "name": "stdout",
     "output_type": "stream",
     "text": [
      "CREATE\n",
      "LAST|Len|\"human arterial endothelial cell\"\n",
      "LAST|Den|\"human cell type\"\n",
      "LAST|P361|Q5\n",
      "LAST|P279|Q28291036\n",
      "CREATE\n",
      "LAST|Len|\"human b cell\"\n",
      "LAST|Den|\"human cell type\"\n",
      "LAST|P361|Q5\n",
      "LAST|P279|Q38015000\n",
      "CREATE\n",
      "LAST|Len|\"human bile duct\"\n",
      "LAST|Den|\"human anatomical structure\"\n",
      "LAST|P361|Q5\n",
      "LAST|P279|Q188930\n",
      "CREATE\n",
      "LAST|Len|\"human bile duct canaliculus\"\n",
      "LAST|Den|\"human anatomical structure\"\n",
      "LAST|P361|Q5\n",
      "LAST|P279|Q851111\n",
      "CREATE\n",
      "LAST|Len|\"human central vein\"\n",
      "LAST|Den|\"human blood vessel\"\n",
      "LAST|P361|Q5\n",
      "LAST|P279|donotexist\n",
      "CREATE\n",
      "LAST|Len|\"human cholangiocyte\"\n",
      "LAST|Den|\"human cell type\"\n",
      "LAST|P361|Q5\n",
      "LAST|P279|Q5062162\n",
      "CREATE\n",
      "LAST|Len|\"human gallbladder\"\n",
      "LAST|Den|\"human organ\"\n",
      "LAST|P361|Q5\n",
      "LAST|P279|Q5104283\n",
      "CREATE\n",
      "LAST|Len|\"human hepatic artery\"\n",
      "LAST|Den|\"human blood vessel\"\n",
      "LAST|P361|Q5\n",
      "LAST|P279|Q64386\n",
      "CREATE\n",
      "LAST|Len|\"human hepatic stellate cell\"\n",
      "LAST|Den|\"human cell type\"\n",
      "LAST|P361|Q5\n",
      "LAST|P279|Q66510798\n",
      "CREATE\n",
      "LAST|Len|\"human hepatic vein\"\n",
      "LAST|Den|\"human blood vessel\"\n",
      "LAST|P361|Q5\n",
      "LAST|P279|Q1997459\n",
      "CREATE\n",
      "LAST|Len|\"human hepatocyte\"\n",
      "LAST|Den|\"human cell type\"\n",
      "LAST|P361|Q5\n",
      "LAST|P279|Q1578686\n",
      "CREATE\n",
      "LAST|Len|\"human kupffer cell\"\n",
      "LAST|Den|\"human cell type\"\n",
      "LAST|P361|Q5\n",
      "LAST|P279|Q827450\n",
      "CREATE\n",
      "LAST|Len|\"human liver\"\n",
      "LAST|Den|\"human organ\"\n",
      "LAST|P361|Q5\n",
      "LAST|P279|Q513486\n",
      "CREATE\n",
      "LAST|Len|\"human nk cell\"\n",
      "LAST|Den|\"human cell type\"\n",
      "LAST|P361|Q5\n",
      "LAST|P279|Q9368\n",
      "CREATE\n",
      "LAST|Len|\"human nkt cell\"\n",
      "LAST|Den|\"human cell type\"\n",
      "LAST|P361|Q5\n",
      "LAST|P279|Q332181\n",
      "CREATE\n",
      "LAST|Len|\"human portal triad\"\n",
      "LAST|Den|\"human anatomical structure\"\n",
      "LAST|P361|Q5\n",
      "LAST|P279|Q224930\n",
      "CREATE\n",
      "LAST|Len|\"human portal vein\"\n",
      "LAST|Den|\"human blood vessel\"\n",
      "LAST|P361|Q5\n",
      "LAST|P279|Q7231496\n",
      "CREATE\n",
      "LAST|Len|\"human sinusoidal endothelial cell\"\n",
      "LAST|Den|\"human cell type\"\n",
      "LAST|P361|Q5\n",
      "LAST|P279|Q464543\n",
      "CREATE\n",
      "LAST|Len|\"human t cell\"\n",
      "LAST|Den|\"human cell type\"\n",
      "LAST|P361|Q5\n",
      "LAST|P279|Q37224985\n",
      "CREATE\n",
      "LAST|Len|\"human vascular endothelial cell\"\n",
      "LAST|Den|\"human cell type\"\n",
      "LAST|P361|Q5\n",
      "LAST|P279|Q193529\n"
     ]
    }
   ],
   "source": [
    "for index, row in df_filt.iterrows():\n",
    "        print(\"CREATE\\n\" + \n",
    "      'LAST|Len|' + '\"' + row['Concepts'].lower() + '\"\\n' +\n",
    "      'LAST|Den|' + '\"'+ \"human \" + row['Type'] + '\"\\n' +\n",
    "      \"LAST|P361|\" + \"Q5\"+ '\\n' +\n",
    "      \"LAST|P279|\" + parents[index-1])"
   ]
  },
  {
   "cell_type": "markdown",
   "metadata": {},
   "source": [
    "They were added to wikipedia via quickstatements. Let's recover the ids."
   ]
  },
  {
   "cell_type": "code",
   "execution_count": 8,
   "metadata": {},
   "outputs": [
    {
     "name": "stdout",
     "output_type": "stream",
     "text": [
      "['Q68620811', 'Q68620797', 'Q68620777', 'Q68621432', 'Q68620785', 'Q68620808', 'Q68620776', 'Q68620782', 'Q68620817', 'Q68620773', 'Q68620794', 'Q68620790', 'Q68487022', 'Q68620803', 'Q68620800', 'Q68620786', 'Q68620781', 'Q68620792', 'Q68620798', 'Q68620788']\n"
     ]
    }
   ],
   "source": [
    "from wikidataintegrator import wdi_core\n",
    "\n",
    "\n",
    "ids = []\n",
    "for index, row in df_filt.iterrows():\n",
    "    try:\n",
    "     ids.append(wdi_core.WDItemEngine.get_wd_search_results(row[0].lower())[0])\n",
    "    except:\n",
    "     print(\"failed: \")\n",
    "     print(row[0])\n",
    "     ids.append(\"donotexist\")   \n",
    "print(ids)"
   ]
  },
  {
   "cell_type": "code",
   "execution_count": 9,
   "metadata": {},
   "outputs": [],
   "source": [
    "df_filt['Item in Wikidata'] = ids\n"
   ]
  },
  {
   "cell_type": "code",
   "execution_count": 12,
   "metadata": {},
   "outputs": [],
   "source": [
    "df_filt.to_csv(\"../outputs/human_liver_with_ids.csv\")"
   ]
  },
  {
   "cell_type": "code",
   "execution_count": null,
   "metadata": {},
   "outputs": [],
   "source": []
  }
 ],
 "metadata": {
  "kernelspec": {
   "display_name": "Python 3",
   "language": "python",
   "name": "python3"
  },
  "language_info": {
   "codemirror_mode": {
    "name": "ipython",
    "version": 3
   },
   "file_extension": ".py",
   "mimetype": "text/x-python",
   "name": "python",
   "nbconvert_exporter": "python",
   "pygments_lexer": "ipython3",
   "version": "3.6.5"
  }
 },
 "nbformat": 4,
 "nbformat_minor": 4
}
