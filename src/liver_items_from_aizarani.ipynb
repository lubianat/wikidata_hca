{
 "cells": [
  {
   "cell_type": "code",
   "execution_count": 1,
   "metadata": {},
   "outputs": [],
   "source": [
    "import pandas as pd"
   ]
  },
  {
   "cell_type": "code",
   "execution_count": 5,
   "metadata": {},
   "outputs": [
    {
     "data": {
      "text/html": [
       "<div>\n",
       "<style scoped>\n",
       "    .dataframe tbody tr th:only-of-type {\n",
       "        vertical-align: middle;\n",
       "    }\n",
       "\n",
       "    .dataframe tbody tr th {\n",
       "        vertical-align: top;\n",
       "    }\n",
       "\n",
       "    .dataframe thead th {\n",
       "        text-align: right;\n",
       "    }\n",
       "</style>\n",
       "<table border=\"1\" class=\"dataframe\">\n",
       "  <thead>\n",
       "    <tr style=\"text-align: right;\">\n",
       "      <th></th>\n",
       "      <th>in HCA white paper?</th>\n",
       "      <th>part of the text where it is mentioned</th>\n",
       "      <th>Concepts</th>\n",
       "      <th>Item in Wikidata</th>\n",
       "      <th>Subclass of</th>\n",
       "      <th>Instance of</th>\n",
       "      <th>part of</th>\n",
       "    </tr>\n",
       "  </thead>\n",
       "  <tbody>\n",
       "    <tr>\n",
       "      <th>0</th>\n",
       "      <td>yes</td>\n",
       "      <td>introduction</td>\n",
       "      <td>hepatocyte</td>\n",
       "      <td>Q68620794</td>\n",
       "      <td>NaN</td>\n",
       "      <td>Q189118</td>\n",
       "      <td>Q68487022</td>\n",
       "    </tr>\n",
       "    <tr>\n",
       "      <th>1</th>\n",
       "      <td>yes</td>\n",
       "      <td>introduction</td>\n",
       "      <td>EPCAM+ bile duct cell</td>\n",
       "      <td>Q68620808</td>\n",
       "      <td>NaN</td>\n",
       "      <td>Q189118</td>\n",
       "      <td>Q68487022</td>\n",
       "    </tr>\n",
       "    <tr>\n",
       "      <th>2</th>\n",
       "      <td>yes</td>\n",
       "      <td>introduction</td>\n",
       "      <td>CLEC4G+ liver sinusoidal endothelial cells (LS...</td>\n",
       "      <td>Q68620792</td>\n",
       "      <td>NaN</td>\n",
       "      <td>Q189118</td>\n",
       "      <td>Q68487022</td>\n",
       "    </tr>\n",
       "    <tr>\n",
       "      <th>3</th>\n",
       "      <td>yes</td>\n",
       "      <td>introduction</td>\n",
       "      <td>hepatic stellate cells</td>\n",
       "      <td>Q68620817</td>\n",
       "      <td>NaN</td>\n",
       "      <td>Q189118</td>\n",
       "      <td>Q68487022</td>\n",
       "    </tr>\n",
       "    <tr>\n",
       "      <th>4</th>\n",
       "      <td>yes</td>\n",
       "      <td>introduction</td>\n",
       "      <td>Kupffer cells</td>\n",
       "      <td>Q68620790</td>\n",
       "      <td>NaN</td>\n",
       "      <td>Q189118</td>\n",
       "      <td>Q68487022</td>\n",
       "    </tr>\n",
       "  </tbody>\n",
       "</table>\n",
       "</div>"
      ],
      "text/plain": [
       "  in HCA white paper? part of the text where it is mentioned  \\\n",
       "0                 yes                           introduction   \n",
       "1                 yes                           introduction   \n",
       "2                 yes                           introduction   \n",
       "3                 yes                           introduction   \n",
       "4                 yes                           introduction   \n",
       "\n",
       "                                            Concepts Item in Wikidata  \\\n",
       "0                                         hepatocyte        Q68620794   \n",
       "1                              EPCAM+ bile duct cell        Q68620808   \n",
       "2  CLEC4G+ liver sinusoidal endothelial cells (LS...        Q68620792   \n",
       "3                             hepatic stellate cells        Q68620817   \n",
       "4                                      Kupffer cells        Q68620790   \n",
       "\n",
       "  Subclass of Instance of    part of  \n",
       "0         NaN     Q189118  Q68487022  \n",
       "1         NaN     Q189118  Q68487022  \n",
       "2         NaN     Q189118  Q68487022  \n",
       "3         NaN     Q189118  Q68487022  \n",
       "4         NaN     Q189118  Q68487022  "
      ]
     },
     "execution_count": 5,
     "metadata": {},
     "output_type": "execute_result"
    }
   ],
   "source": [
    "df = pd.read_csv(\"../data/human_liver_items - aizarani et al.csv\")\n",
    "df.head()"
   ]
  },
  {
   "cell_type": "code",
   "execution_count": 6,
   "metadata": {},
   "outputs": [
    {
     "data": {
      "text/html": [
       "<div>\n",
       "<style scoped>\n",
       "    .dataframe tbody tr th:only-of-type {\n",
       "        vertical-align: middle;\n",
       "    }\n",
       "\n",
       "    .dataframe tbody tr th {\n",
       "        vertical-align: top;\n",
       "    }\n",
       "\n",
       "    .dataframe thead th {\n",
       "        text-align: right;\n",
       "    }\n",
       "</style>\n",
       "<table border=\"1\" class=\"dataframe\">\n",
       "  <thead>\n",
       "    <tr style=\"text-align: right;\">\n",
       "      <th></th>\n",
       "      <th>in HCA white paper?</th>\n",
       "      <th>part of the text where it is mentioned</th>\n",
       "      <th>Concepts</th>\n",
       "      <th>Item in Wikidata</th>\n",
       "      <th>Subclass of</th>\n",
       "      <th>Instance of</th>\n",
       "      <th>part of</th>\n",
       "    </tr>\n",
       "  </thead>\n",
       "  <tbody>\n",
       "    <tr>\n",
       "      <th>5</th>\n",
       "      <td>no</td>\n",
       "      <td>introduction</td>\n",
       "      <td>human periportal LSECs</td>\n",
       "      <td>NaN</td>\n",
       "      <td>Q68620792</td>\n",
       "      <td>Q189118</td>\n",
       "      <td>Q68487022</td>\n",
       "    </tr>\n",
       "    <tr>\n",
       "      <th>6</th>\n",
       "      <td>no</td>\n",
       "      <td>introduction</td>\n",
       "      <td>human midzonal LSECs</td>\n",
       "      <td>NaN</td>\n",
       "      <td>Q68620792</td>\n",
       "      <td>Q189118</td>\n",
       "      <td>Q68487022</td>\n",
       "    </tr>\n",
       "    <tr>\n",
       "      <th>7</th>\n",
       "      <td>no</td>\n",
       "      <td>introduction</td>\n",
       "      <td>human central LSECs</td>\n",
       "      <td>NaN</td>\n",
       "      <td>Q68620792</td>\n",
       "      <td>Q189118</td>\n",
       "      <td>Q68487022</td>\n",
       "    </tr>\n",
       "    <tr>\n",
       "      <th>8</th>\n",
       "      <td>no</td>\n",
       "      <td>introduction</td>\n",
       "      <td>human myofibroblasts</td>\n",
       "      <td>NaN</td>\n",
       "      <td>Q1467330</td>\n",
       "      <td>Q189118</td>\n",
       "      <td>Q68487022</td>\n",
       "    </tr>\n",
       "    <tr>\n",
       "      <th>9</th>\n",
       "      <td>no</td>\n",
       "      <td>introduction</td>\n",
       "      <td>human CD34+ PECAM high macrovascular endotheli...</td>\n",
       "      <td>NaN</td>\n",
       "      <td>Q68621315</td>\n",
       "      <td>Q189118</td>\n",
       "      <td>Q68487022</td>\n",
       "    </tr>\n",
       "  </tbody>\n",
       "</table>\n",
       "</div>"
      ],
      "text/plain": [
       "  in HCA white paper? part of the text where it is mentioned  \\\n",
       "5                  no                           introduction   \n",
       "6                  no                           introduction   \n",
       "7                  no                           introduction   \n",
       "8                  no                           introduction   \n",
       "9                  no                           introduction   \n",
       "\n",
       "                                            Concepts Item in Wikidata  \\\n",
       "5                             human periportal LSECs              NaN   \n",
       "6                               human midzonal LSECs              NaN   \n",
       "7                                human central LSECs              NaN   \n",
       "8                               human myofibroblasts              NaN   \n",
       "9  human CD34+ PECAM high macrovascular endotheli...              NaN   \n",
       "\n",
       "  Subclass of Instance of    part of  \n",
       "5   Q68620792     Q189118  Q68487022  \n",
       "6   Q68620792     Q189118  Q68487022  \n",
       "7   Q68620792     Q189118  Q68487022  \n",
       "8    Q1467330     Q189118  Q68487022  \n",
       "9   Q68621315     Q189118  Q68487022  "
      ]
     },
     "execution_count": 6,
     "metadata": {},
     "output_type": "execute_result"
    }
   ],
   "source": [
    "df_filt = df[df[\"Item in Wikidata\"].isnull()]\n",
    "df_filt.head()"
   ]
  },
  {
   "cell_type": "code",
   "execution_count": 8,
   "metadata": {},
   "outputs": [
    {
     "name": "stdout",
     "output_type": "stream",
     "text": [
      "human periportal LSECs\n",
      "human midzonal LSECs\n",
      "human central LSECs\n",
      "human myofibroblasts\n",
      "human CD34+ PECAM high macrovascular endothelial cells (MaVECs)\n",
      "circulating MS4A1+CD37+ subset of B cells\n",
      "liver-resident MZB1+ subset of B cells\n"
     ]
    }
   ],
   "source": [
    "for index, row in df_filt.iterrows():\n",
    "    print(row[\"Concepts\"])"
   ]
  },
  {
   "cell_type": "code",
   "execution_count": 13,
   "metadata": {},
   "outputs": [
    {
     "name": "stdout",
     "output_type": "stream",
     "text": [
      "CREATE\n",
      "LAST|Len|\"human periportal LSECs\"\n",
      "LAST|Den|\"human cell type\"\n",
      "LAST|P31|Q189118\n",
      "LAST|P279|Q68620792\n",
      "LAST|P361|Q68487022\n",
      "\n",
      "CREATE\n",
      "LAST|Len|\"human midzonal LSECs\"\n",
      "LAST|Den|\"human cell type\"\n",
      "LAST|P31|Q189118\n",
      "LAST|P279|Q68620792\n",
      "LAST|P361|Q68487022\n",
      "\n",
      "CREATE\n",
      "LAST|Len|\"human central LSECs\"\n",
      "LAST|Den|\"human cell type\"\n",
      "LAST|P31|Q189118\n",
      "LAST|P279|Q68620792\n",
      "LAST|P361|Q68487022\n",
      "\n",
      "CREATE\n",
      "LAST|Len|\"human myofibroblasts\"\n",
      "LAST|Den|\"human cell type\"\n",
      "LAST|P31|Q189118\n",
      "LAST|P279|Q1467330\n",
      "LAST|P361|Q68487022\n",
      "\n",
      "CREATE\n",
      "LAST|Len|\"human CD34+ PECAM high macrovascular endothelial cells (MaVECs)\"\n",
      "LAST|Den|\"human cell type\"\n",
      "LAST|P31|Q189118\n",
      "LAST|P279|Q68621315\n",
      "LAST|P361|Q68487022\n",
      "\n",
      "CREATE\n",
      "LAST|Len|\"circulating MS4A1+CD37+ subset of B cells\"\n",
      "LAST|Den|\"human cell type\"\n",
      "LAST|P31|Q189118\n",
      "LAST|P279|Q68620797\n",
      "LAST|P361|Q68487022\n",
      "\n",
      "CREATE\n",
      "LAST|Len|\"liver-resident MZB1+ subset of B cells\"\n",
      "LAST|Den|\"human cell type\"\n",
      "LAST|P31|Q189118\n",
      "LAST|P279|Q68620797\n",
      "LAST|P361|Q68487022\n",
      "\n"
     ]
    }
   ],
   "source": [
    "for index, row in df_filt.iterrows():\n",
    "        print(\"CREATE\\n\" + \n",
    "      'LAST|Len|' + '\"' + row['Concepts'] + '\"\\n' +\n",
    "      'LAST|Den|' + '\"'+ \"human cell type\" + '\"\\n' +\n",
    "      'LAST|P31|' + row['Instance of']  + '\\n' +\n",
    "      'LAST|P279|' + row['Subclass of']  + '\\n' +\n",
    "      \"LAST|P361|\" + row['part of'] + '\\n') "
   ]
  },
  {
   "cell_type": "markdown",
   "metadata": {},
   "source": [
    "They were added to wikipedia via quickstatements. Let's recover the ids."
   ]
  },
  {
   "cell_type": "code",
   "execution_count": 14,
   "metadata": {},
   "outputs": [
    {
     "name": "stdout",
     "output_type": "stream",
     "text": [
      "['Q70913405', 'Q70913408', 'Q70913410', 'Q70913412', 'Q70913414', 'Q70913417', 'Q70913420']\n"
     ]
    }
   ],
   "source": [
    "from wikidataintegrator import wdi_core\n",
    "\n",
    "\n",
    "ids = []\n",
    "for index, row in df_filt.iterrows():\n",
    "    try:\n",
    "     ids.append(wdi_core.WDItemEngine.get_wd_search_results(row[\"Concepts\"].lower())[0])\n",
    "    except:\n",
    "     print(\"failed: \")\n",
    "     print(row[0])\n",
    "    \n",
    "     ids.append(\"donotexist\")   \n",
    "print(ids)"
   ]
  },
  {
   "cell_type": "code",
   "execution_count": 16,
   "metadata": {},
   "outputs": [
    {
     "name": "stdout",
     "output_type": "stream",
     "text": [
      "   in HCA white paper? part of the text where it is mentioned  \\\n",
      "5                   no                           introduction   \n",
      "6                   no                           introduction   \n",
      "7                   no                           introduction   \n",
      "8                   no                           introduction   \n",
      "9                   no                           introduction   \n",
      "11                  no                                results   \n",
      "12                  no                                results   \n",
      "\n",
      "                                             Concepts Item in Wikidata  \\\n",
      "5                              human periportal LSECs        Q70913405   \n",
      "6                                human midzonal LSECs        Q70913408   \n",
      "7                                 human central LSECs        Q70913410   \n",
      "8                                human myofibroblasts        Q70913412   \n",
      "9   human CD34+ PECAM high macrovascular endotheli...        Q70913414   \n",
      "11          circulating MS4A1+CD37+ subset of B cells        Q70913417   \n",
      "12             liver-resident MZB1+ subset of B cells        Q70913420   \n",
      "\n",
      "   Subclass of Instance of    part of  \n",
      "5    Q68620792     Q189118  Q68487022  \n",
      "6    Q68620792     Q189118  Q68487022  \n",
      "7    Q68620792     Q189118  Q68487022  \n",
      "8     Q1467330     Q189118  Q68487022  \n",
      "9    Q68621315     Q189118  Q68487022  \n",
      "11   Q68620797     Q189118  Q68487022  \n",
      "12   Q68620797     Q189118  Q68487022  \n"
     ]
    },
    {
     "name": "stderr",
     "output_type": "stream",
     "text": [
      "/usr/lib/python3/dist-packages/ipykernel_launcher.py:1: SettingWithCopyWarning: \n",
      "A value is trying to be set on a copy of a slice from a DataFrame.\n",
      "Try using .loc[row_indexer,col_indexer] = value instead\n",
      "\n",
      "See the caveats in the documentation: http://pandas.pydata.org/pandas-docs/stable/indexing.html#indexing-view-versus-copy\n",
      "  \"\"\"Entry point for launching an IPython kernel.\n"
     ]
    }
   ],
   "source": [
    "df_filt['Item in Wikidata'] = ids\n",
    "\n",
    "\n",
    "print(df_filt)"
   ]
  },
  {
   "cell_type": "code",
   "execution_count": 17,
   "metadata": {},
   "outputs": [],
   "source": [
    "df_filt.to_csv(\"../outputs/human_liver_aizarani_with_ids.csv\")"
   ]
  },
  {
   "cell_type": "code",
   "execution_count": null,
   "metadata": {},
   "outputs": [],
   "source": []
  }
 ],
 "metadata": {
  "kernelspec": {
   "display_name": "Python 3",
   "language": "python",
   "name": "python3"
  },
  "language_info": {
   "codemirror_mode": {
    "name": "ipython",
    "version": 3
   },
   "file_extension": ".py",
   "mimetype": "text/x-python",
   "name": "python",
   "nbconvert_exporter": "python",
   "pygments_lexer": "ipython3",
   "version": "3.6.5"
  }
 },
 "nbformat": 4,
 "nbformat_minor": 4
}
