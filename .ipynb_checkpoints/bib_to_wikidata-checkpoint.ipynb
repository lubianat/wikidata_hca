{
 "cells": [
  {
   "cell_type": "code",
   "execution_count": 27,
   "metadata": {},
   "outputs": [],
   "source": [
    "bibtex = \"\"\"@article{hodge2019conserved,\n",
    "  title={Conserved cell types with divergent features in human versus mouse cortex},\n",
    "  author={Hodge, Rebecca D and Bakken, Trygve E and Miller, Jeremy A and Smith, Kimberly A and Barkan, Eliza R and Graybuck, Lucas T and Close, Jennie L and Long, Brian and Johansen, Nelson and Penn, Osnat and others},\n",
    "  journal={Nature},\n",
    "  volume={573},\n",
    "  number={7772},\n",
    "  pages={61--68},\n",
    "  year={2019},\n",
    "  publisher={Nature Publishing Group}\n",
    "}\"\"\"\n",
    "with open('bibtex.bib', 'w') as bibfile:\n",
    "    bibfile.write(bibtex)"
   ]
  },
  {
   "cell_type": "code",
   "execution_count": 5,
   "metadata": {},
   "outputs": [
    {
     "name": "stdout",
     "output_type": "stream",
     "text": [
      "[{'publisher': 'Nature Publishing Group', 'year': '2019', 'pages': '61--68', 'number': '7772', 'volume': '573', 'journal': 'Nature', 'author': 'Hodge, Rebecca D and Bakken, Trygve E and Miller, Jeremy A and Smith, Kimberly A and Barkan, Eliza R and Graybuck, Lucas T and Close, Jennie L and Long, Brian and Johansen, Nelson and Penn, Osnat and others', 'title': 'Conserved cell types with divergent features in human versus mouse cortex', 'ENTRYTYPE': 'article', 'ID': 'hodge2019conserved'}]\n"
     ]
    }
   ],
   "source": [
    "import bibtexparser\n",
    "\n",
    "with open('bibtex.bib') as bibtex_file:\n",
    "    bib_database = bibtexparser.load(bibtex_file)\n",
    "\n",
    "print(bib_database.entries)"
   ]
  },
  {
   "cell_type": "code",
   "execution_count": 86,
   "metadata": {},
   "outputs": [
    {
     "name": "stdout",
     "output_type": "stream",
     "text": [
      "CREATE\n",
      "LAST|Len|\"Conserved cell types with divergent features in human versus mouse cortex\"\n",
      "LAST|Den|\"scientific article published in2019 in Nature\"\n",
      "LAST|P31|Q13442814\n",
      "LAST|P577|2019-00-00T00:00:00Z/9\n",
      "LAST|P408|\"573\"\n",
      "LAST|P309|\"61--68\"\n"
     ]
    }
   ],
   "source": [
    "print(\"CREATE\\n\" + \n",
    "      'LAST|Len|' + '\"' + bib_database.entries[0][\"title\"] + '\"\\n'+\n",
    "      'LAST|Den|' + '\"'+ \"scientific article published in\" +  bib_database.entries[0][\"year\"] + \" in \" + bib_database.entries[0][\"journal\"] +'\"\\n' +\n",
    "      'LAST|P31|' + \"Q13442814\"  + '\\n'\n",
    "      'LAST|P577|' + \"+\" +  bib_database.entries[0][\"year\"] + \"-00-00T00:00:00Z/9\" + '\\n'\n",
    "      'LAST|P408|' + '\"'+ bib_database.entries[0][\"volume\"] + '\"'+ '\\n'\n",
    "      'LAST|P309|' +  '\"'+ bib_database.entries[0][\"pages\"]+ '\"'\n",
    "       )\n"
   ]
  },
  {
   "cell_type": "code",
   "execution_count": 82,
   "metadata": {},
   "outputs": [
    {
     "name": "stdout",
     "output_type": "stream",
     "text": [
      "LAST|P2093|\"Rebecca D Hodge\"|P1545|1\n",
      "LAST|P2093|\"Trygve E Bakken\"|P1545|2\n",
      "LAST|P2093|\"Jeremy A Miller\"|P1545|3\n",
      "LAST|P2093|\"Kimberly A Smith\"|P1545|4\n",
      "LAST|P2093|\"Eliza R Barkan\"|P1545|5\n",
      "LAST|P2093|\"Lucas T Graybuck\"|P1545|6\n",
      "LAST|P2093|\"Jennie L Close\"|P1545|7\n",
      "LAST|P2093|\"Brian Long\"|P1545|8\n",
      "LAST|P2093|\"Nelson Johansen\"|P1545|9\n",
      "LAST|P2093|\"Osnat Penn\"|P1545|10\n"
     ]
    },
    {
     "ename": "IndexError",
     "evalue": "list index out of range",
     "output_type": "error",
     "traceback": [
      "\u001b[0;31m---------------------------------------------------------------------------\u001b[0m",
      "\u001b[0;31mIndexError\u001b[0m                                Traceback (most recent call last)",
      "\u001b[0;32m<ipython-input-82-cb0cab37103d>\u001b[0m in \u001b[0;36m<module>\u001b[0;34m()\u001b[0m\n\u001b[1;32m      2\u001b[0m \u001b[0;34m\u001b[0m\u001b[0m\n\u001b[1;32m      3\u001b[0m \u001b[0;32mfor\u001b[0m \u001b[0mnum\u001b[0m\u001b[0;34m,\u001b[0m \u001b[0mi\u001b[0m \u001b[0;32min\u001b[0m \u001b[0menumerate\u001b[0m\u001b[0;34m(\u001b[0m\u001b[0mbib_database\u001b[0m\u001b[0;34m.\u001b[0m\u001b[0mentries\u001b[0m\u001b[0;34m[\u001b[0m\u001b[0;36m0\u001b[0m\u001b[0;34m]\u001b[0m\u001b[0;34m[\u001b[0m\u001b[0;34m\"author\"\u001b[0m\u001b[0;34m]\u001b[0m\u001b[0;34m.\u001b[0m\u001b[0msplit\u001b[0m\u001b[0;34m(\u001b[0m\u001b[0;34m'and'\u001b[0m\u001b[0;34m)\u001b[0m\u001b[0;34m)\u001b[0m\u001b[0;34m:\u001b[0m\u001b[0;34m\u001b[0m\u001b[0m\n\u001b[0;32m----> 4\u001b[0;31m     \u001b[0mprint\u001b[0m\u001b[0;34m(\u001b[0m\u001b[0;34m\"LAST|P2093|\"\u001b[0m \u001b[0;34m+\u001b[0m \u001b[0;34m'\"'\u001b[0m\u001b[0;34m+\u001b[0m\u001b[0mi\u001b[0m\u001b[0;34m.\u001b[0m\u001b[0msplit\u001b[0m\u001b[0;34m(\u001b[0m\u001b[0;34m','\u001b[0m\u001b[0;34m)\u001b[0m\u001b[0;34m[\u001b[0m\u001b[0;36m1\u001b[0m\u001b[0;34m]\u001b[0m\u001b[0;34m.\u001b[0m\u001b[0mlstrip\u001b[0m\u001b[0;34m(\u001b[0m\u001b[0;34m)\u001b[0m \u001b[0;34m+\u001b[0m \u001b[0mi\u001b[0m\u001b[0;34m.\u001b[0m\u001b[0msplit\u001b[0m\u001b[0;34m(\u001b[0m\u001b[0;34m','\u001b[0m\u001b[0;34m)\u001b[0m\u001b[0;34m[\u001b[0m\u001b[0;36m0\u001b[0m\u001b[0;34m]\u001b[0m\u001b[0;34m.\u001b[0m\u001b[0mlstrip\u001b[0m\u001b[0;34m(\u001b[0m\u001b[0;34m)\u001b[0m\u001b[0;34m+\u001b[0m\u001b[0;34m'\"'\u001b[0m\u001b[0;34m+\u001b[0m\u001b[0;34m\"|P1545|\"\u001b[0m\u001b[0;34m+\u001b[0m \u001b[0mstr\u001b[0m\u001b[0;34m(\u001b[0m\u001b[0mnum\u001b[0m\u001b[0;34m+\u001b[0m\u001b[0;36m1\u001b[0m\u001b[0;34m)\u001b[0m\u001b[0;34m)\u001b[0m\u001b[0;34m\u001b[0m\u001b[0m\n\u001b[0m\u001b[1;32m      5\u001b[0m \u001b[0;34m\u001b[0m\u001b[0m\n",
      "\u001b[0;31mIndexError\u001b[0m: list index out of range"
     ]
    }
   ],
   "source": [
    "\n",
    "\n",
    "for num, i in enumerate(bib_database.entries[0][\"author\"].split('and')):\n",
    "    print(\"LAST|P2093|\" + '\"'+i.split(',')[1].lstrip() + i.split(',')[0].lstrip()+'\"'+\"|P1545|\"+ str(num+1))\n",
    "    "
   ]
  },
  {
   "cell_type": "code",
   "execution_count": 71,
   "metadata": {},
   "outputs": [
    {
     "name": "stdout",
     "output_type": "stream",
     "text": [
      "LAST|P1433|Q180445\n",
      "\n"
     ]
    }
   ],
   "source": [
    "print('LAST|P1433|' + \"Q180445\" + \"\\n\")"
   ]
  },
  {
   "cell_type": "code",
   "execution_count": 72,
   "metadata": {},
   "outputs": [
    {
     "data": {
      "text/plain": [
       "'2'"
      ]
     },
     "execution_count": 72,
     "metadata": {},
     "output_type": "execute_result"
    }
   ],
   "source": [
    "str(2)"
   ]
  }
 ],
 "metadata": {
  "kernelspec": {
   "display_name": "Python 3",
   "language": "python",
   "name": "python3"
  },
  "language_info": {
   "codemirror_mode": {
    "name": "ipython",
    "version": 3
   },
   "file_extension": ".py",
   "mimetype": "text/x-python",
   "name": "python",
   "nbconvert_exporter": "python",
   "pygments_lexer": "ipython3",
   "version": "3.6.5"
  }
 },
 "nbformat": 4,
 "nbformat_minor": 4
}
